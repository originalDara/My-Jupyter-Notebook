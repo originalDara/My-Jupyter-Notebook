{
 "cells": [
  {
   "cell_type": "markdown",
   "metadata": {},
   "source": [
    "# MY Jupyter Notebook"
   ]
  },
  {
   "cell_type": "markdown",
   "metadata": {},
   "source": [
    "**Oneta Dara**    \n",
    "Programmer\n",
    "\n"
   ]
  },
  {
   "cell_type": "markdown",
   "metadata": {},
   "source": [
    "_I am interested in Data Science because I want to optimize my area of interests._"
   ]
  },
  {
   "cell_type": "markdown",
   "metadata": {},
   "source": [
    "### I made a dictionary object and I retreived the name attribute"
   ]
  },
  {
   "cell_type": "code",
   "execution_count": 12,
   "metadata": {},
   "outputs": [
    {
     "data": {
      "text/plain": [
       "'Oneta'"
      ]
     },
     "execution_count": 12,
     "metadata": {},
     "output_type": "execute_result"
    }
   ],
   "source": [
    "block={'name': 'Oneta', 'password':'Cranberries'}\n",
    "block['name']\n"
   ]
  },
  {
   "cell_type": "markdown",
   "metadata": {},
   "source": [
    "#### Grocery List\n",
    "Apples  \n",
    "cheese  \n",
    "Milk  \n",
    "bread  "
   ]
  },
  {
   "cell_type": "markdown",
   "metadata": {},
   "source": [
    "### My table \n",
    "Subject|Study Time|Day\n",
    "---|---|---|\n",
    "Math|2hr|wed\n",
    "Eng|1hr|thur\n",
    "Musci|2hr|fri"
   ]
  },
  {
   "cell_type": "code",
   "execution_count": null,
   "metadata": {},
   "outputs": [],
   "source": []
  }
 ],
 "metadata": {
  "kernelspec": {
   "display_name": "Python 3",
   "language": "python",
   "name": "python3"
  },
  "language_info": {
   "codemirror_mode": {
    "name": "ipython",
    "version": 3
   },
   "file_extension": ".py",
   "mimetype": "text/x-python",
   "name": "python",
   "nbconvert_exporter": "python",
   "pygments_lexer": "ipython3",
   "version": "3.7.4"
  }
 },
 "nbformat": 4,
 "nbformat_minor": 2
}
